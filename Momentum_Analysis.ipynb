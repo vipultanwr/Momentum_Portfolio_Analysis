{
 "cells": [
  {
   "cell_type": "code",
   "execution_count": 323,
   "metadata": {},
   "outputs": [],
   "source": [
    "import pandas as pd\n",
    "import eikon as ek\n",
    "import matplotlib.pyplot as plt\n",
    "\n",
    "ek.set_app_key('APP_KEY')\n",
    "from matplotlib.pyplot import figure\n"
   ]
  },
  {
   "cell_type": "code",
   "execution_count": null,
   "metadata": {},
   "outputs": [],
   "source": [
    "dates = []\n",
    "returns_list = []\n",
    "\n",
    "for YEAR in range(2011,2015):\n",
    "    for MONTH in range(1,13):\n",
    "        date = str(YEAR) + (str(0) + str(MONTH) if MONTH < 10 else str(MONTH)) + str(calendar.monthrange(YEAR,MONTH)[1])\n",
    "        dates.append(date)\n",
    "\n",
    "for i in range(len(dates)):\n",
    "    print(dates[i])\n",
    "    start_date = dates[i]\n",
    "    end_date = dates[i]\n",
    "    \n",
    "    nif100 = ek.get_data('0#.NIFTY100('+start_date + str(')'),['TR.RIC'])\n",
    "\n",
    "    if(i == 0):\n",
    "        curr_month = ek.get_data(nif100[0]['Instrument'].str.split('^',expand=True)[0].tolist(),['TR.TotalReturn1Mo.date','TR.TotalReturn1Mo'], {\"SDate\":start_date, \"EDate\":end_date})[0]\n",
    "\n",
    "    weights = curr_month[curr_month['1 Month Total Return'] > 0].dropna(axis=0).sort_values(by='1 Month Total Return')[-10:]\n",
    "    weights['weights'] = weights['1 Month Total Return']/weights['1 Month Total Return'].sum()\n",
    "    \n",
    "    if(i < len(dates)-1):\n",
    "        start_date = dates[i+1]\n",
    "        end_date = dates[i+1]\n",
    "    else:\n",
    "        break\n",
    "    next_month = ek.get_data(nif100[0]['Instrument'].str.split('^',expand=True)[0].tolist(),['TR.TotalReturn1Mo.date','TR.TotalReturn1Mo'], {\"SDate\":start_date, \"EDate\":end_date})[0]\n",
    "\n",
    "    portfolio = pd.concat([weights[['Instrument','weights']],next_month],axis=1,names=['Instrument'],join='inner')\n",
    "\n",
    "    returns = ((1+(portfolio['1 Month Total Return']/100))*portfolio['weights']).sum()\n",
    "    \n",
    "    returns_list.append(returns)    \n",
    "    curr_month = next_month\n",
    "\n",
    "        \n",
    "print(returns_list)"
   ]
  },
  {
   "cell_type": "code",
   "execution_count": 256,
   "metadata": {},
   "outputs": [],
   "source": [
    "PnL = pd.DataFrame({'Date':dates[:-1],'Rets':returns_list})\n",
    "PnL.loc[len(PnL)] = [dates[-1],1]\n",
    "PnL['Rets'] = PnL['Rets'].shift(1).fillna(1)\n",
    "PnL['CumRts'] = PnL['Rets'].cumprod()\n",
    "\n",
    "\n"
   ]
  },
  {
   "cell_type": "code",
   "execution_count": 264,
   "metadata": {},
   "outputs": [
    {
     "name": "stderr",
     "output_type": "stream",
     "text": [
      "/Users/vipultanwar/Documents/kite/kite/lib/python3.8/site-packages/eikon/time_series.py:282: FutureWarning: The pandas.np module is deprecated and will be removed from pandas in a future version. Import numpy directly instead\n",
      "  datapoints = pd.np.array(timeseries['dataPoints'])\n",
      "/Users/vipultanwar/Documents/kite/kite/lib/python3.8/site-packages/eikon/time_series.py:284: FutureWarning: The pandas.np module is deprecated and will be removed from pandas in a future version. Import numpy directly instead\n",
      "  timestamps = pd.np.array([tz_replacer(value) for value in datapoints[:, timestamp_index]],\n",
      "/Users/vipultanwar/Documents/kite/kite/lib/python3.8/site-packages/eikon/time_series.py:286: FutureWarning: The pandas.np module is deprecated and will be removed from pandas in a future version. Import numpy directly instead\n",
      "  datapoints = pd.np.delete(datapoints, pd.np.s_[timestamp_index],\n",
      "/Users/vipultanwar/Documents/kite/kite/lib/python3.8/site-packages/eikon/time_series.py:209: FutureWarning: The pandas.np module is deprecated and will be removed from pandas in a future version. Import numpy directly instead\n",
      "  data_frame = data_frame.fillna(pd.np.nan)\n"
     ]
    }
   ],
   "source": [
    "year = PnL['Date'][0][:4]\n",
    "mnth = PnL['Date'][0][4:6]\n",
    "day= PnL['Date'][0][6:]\n",
    "stt_date = str(year + \"-\" + mnth + \"-\" + day )\n",
    "year = PnL['Date'][len(PnL)-1][:4]\n",
    "mnth = PnL['Date'][len(PnL)-1][4:6]\n",
    "day= PnL['Date'][len(PnL)-1][6:]\n",
    "end_date = str(year + \"-\" + mnth + \"-\" + day )\n",
    "\n",
    "Benchmark = ek.get_timeseries(rics=['.NSEI'],fields=['CLOSE'],\n",
    "                            start_date=stt_date,\n",
    "                            end_date='2020-10-31',\n",
    "                            interval='daily',corax='adjusted')\n",
    "\n",
    "Benchmark = Benchmark.resample('M').last()\n",
    "Benchmark_Returns = Benchmark.pct_change()\n",
    "Benchmark_Returns.iloc[0]['CLOSE'] = 0"
   ]
  },
  {
   "cell_type": "code",
   "execution_count": 259,
   "metadata": {
    "scrolled": true
   },
   "outputs": [
    {
     "data": {
      "image/png": "[encoded data removed]",
      "text/plain": [
       "<Figure size 432x288 with 1 Axes>"
      ]
     },
     "metadata": {
      "needs_background": "light"
     },
     "output_type": "display_data"
    }
   ],
   "source": [
    "\n",
    "plt.plot(PnL['CumRts'])\n",
    "plt.plot((((Benchmark_Returns['CLOSE']+1).cumprod()).reset_index())['CLOSE'],'--')\n",
    "plt.show()"
   ]
  },
  {
   "cell_type": "code",
   "execution_count": 343,
   "metadata": {},
   "outputs": [],
   "source": [
    "Momentum_strategy_returns = pd.read_csv('2011_2020.csv')[['Date','Rets']]\n"
   ]
  },
  {
   "cell_type": "code",
   "execution_count": null,
   "metadata": {},
   "outputs": [],
   "source": [
    "_10YT = ek.get_timeseries(rics=['IN10YT=RR'],fields=['CLOSE'],\n",
    "                            start_date=stt_date,\n",
    "                            end_date='2020-11-30',\n",
    "                            interval='monthly',corax='adjusted')"
   ]
  },
  {
   "cell_type": "code",
   "execution_count": 353,
   "metadata": {},
   "outputs": [],
   "source": [
    "Momentum_strategy_returns.index = _10YT.index"
   ]
  },
  {
   "cell_type": "code",
   "execution_count": null,
   "metadata": {
    "scrolled": false
   },
   "outputs": [],
   "source": [
    "fig, ax = plt.subplots()\n",
    "# figure(num=None, figsize=(18, 6), facecolor='w', edgecolor='k')\n",
    "fig.set_size_inches(22.5, 10.5)\n",
    "\n",
    "ax2 = ax.twinx()\n",
    "ax.plot(Momentum_strategy_returns['Rets'].cumprod(),label='Momentum Portfolio [Primary Axis]',color='green',linewidth=3)\n",
    "ax.plot((((Benchmark_Returns['CLOSE']+1).cumprod())),'--',label = 'Benchmark Index [Primary Axis]',color='orange',linewidth=2)\n",
    "ax2.plot(_10YT['CLOSE'],'--',label = '10 Y yield',linewidth=0.5)\n",
    "ax2.plot(_10YT['CLOSE'].rolling(24).mean(),'--',label = '10 Y yield: 2y moving avg',linewidth=0.5)\n",
    "\n",
    "ax.legend()\n",
    "ax2.legend()\n",
    "plt.grid()\n",
    "plt.show()"
   ]
  },
  {
   "cell_type": "code",
   "execution_count": 360,
   "metadata": {},
   "outputs": [
    {
     "data": {
      "text/plain": [
       "<Figure size 432x288 with 0 Axes>"
      ]
     },
     "metadata": {},
     "output_type": "display_data"
    }
   ],
   "source": [
    "plt.savefig('plot.png')"
   ]
  }
 ],
 "metadata": {
  "kernelspec": {
   "display_name": "Python 3",
   "language": "python",
   "name": "python3"
  },
  "language_info": {
   "codemirror_mode": {
    "name": "ipython",
    "version": 3
   },
   "file_extension": ".py",
   "mimetype": "text/x-python",
   "name": "python",
   "nbconvert_exporter": "python",
   "pygments_lexer": "ipython3",
   "version": "3.8.0"
  }
 },
 "nbformat": 4,
 "nbformat_minor": 4
}
